{
 "cells": [
  {
   "cell_type": "markdown",
   "metadata": {},
   "source": [
    "# Measuring Diversity\n",
    "\n",
    "This notebook will lead you through a fairly simple analysis of real student demographic data from UC Berkeley. The data is fairly simple, and so we will be focusing on data manipulation and presentation.\n",
    "\n",
    "A very simple question one might ask is how does the ethnic and gender makeup of an academic department compare to the makeup of Berkeley as a whole (or California, or the US...). Using data from Cal Answers, let's try and answer that question.\n",
    "\n",
    "We have data going back to 2005 with gender and (coarse) ethnicity broken down by various academic units. A skeleton for comparing one department/unit to Berkeley has been created.\n",
    "\n",
    "In groups, you'll need to:\n",
    "- choose to look at gender, ethnicity or a combination across units,\n",
    "- automate .csv loads from a folder,\n",
    "- run the analysis for every department/group,\n",
    "- make a summary plot(s).\n",
    "\n",
    "As a reminder, IPython notebooks are organized by \"cells.\" Each cell can have its own code and can be run independently and in any order (although they are usually run top to bottom in a notebook.) To run a cell and move to the next cell press ```Shift+Enter```. To run a cell and stay on that cell press ```Control+Enter```.\n",
    "\n",
    "\n",
    "Questions to be discussed in groups are highlighted in <font color='green'>green</font>. If you don't understand a function that is used, try googling something like \"python function-name\".\n",
    "\n",
    "## Homework\n",
    "Your homework will be to post a picture of your results on Piazza along with a brief description of the analysis you have done. You might also comment on the implications of your analysis on diversity, equity, etc."
   ]
  },
  {
   "cell_type": "code",
   "execution_count": null,
   "metadata": {
    "collapsed": false
   },
   "outputs": [],
   "source": [
    "import os # library that deals with operating system\n",
    "import pandas as pd\n",
    "import numpy as np\n",
    "import matplotlib.pyplot as plt\n",
    "% matplotlib inline"
   ]
  },
  {
   "cell_type": "markdown",
   "metadata": {},
   "source": [
    "# Loading data"
   ]
  },
  {
   "cell_type": "code",
   "execution_count": null,
   "metadata": {
    "collapsed": false
   },
   "outputs": [],
   "source": [
    "folder = 'data'\n",
    "filename = 'CensusEquityComparisonData-LettersAndSciences.csv'\n",
    "baseline = 'CensusEquityComparisonData-CampusTotal.csv'\n",
    "df = pd.read_csv(os.path.join(folder, filename))\n",
    "df_baseline = pd.read_csv(os.path.join(folder, baseline))"
   ]
  },
  {
   "cell_type": "markdown",
   "metadata": {},
   "source": [
    "## Inspect the data"
   ]
  },
  {
   "cell_type": "code",
   "execution_count": null,
   "metadata": {
    "collapsed": false
   },
   "outputs": [],
   "source": [
    "cols = df.columns\n",
    "print(cols)\n",
    "df"
   ]
  },
  {
   "cell_type": "code",
   "execution_count": null,
   "metadata": {
    "collapsed": false
   },
   "outputs": [],
   "source": [
    "semesters = df[cols[1]]"
   ]
  },
  {
   "cell_type": "code",
   "execution_count": null,
   "metadata": {
    "collapsed": false
   },
   "outputs": [],
   "source": [
    "semesters = set(semesters)"
   ]
  },
  {
   "cell_type": "code",
   "execution_count": null,
   "metadata": {
    "collapsed": true
   },
   "outputs": [],
   "source": [
    "semesters = list(semesters)"
   ]
  },
  {
   "cell_type": "code",
   "execution_count": null,
   "metadata": {
    "collapsed": true
   },
   "outputs": [],
   "source": [
    "semesters = sorted(semesters)"
   ]
  },
  {
   "cell_type": "code",
   "execution_count": null,
   "metadata": {
    "collapsed": false,
    "scrolled": false
   },
   "outputs": [],
   "source": [
    "semesters"
   ]
  },
  {
   "cell_type": "markdown",
   "metadata": {},
   "source": [
    "<font color='green'>\n",
    "1) What does each line above do to 'semesters'?<br>\n",
    "You can run them individually and print semesters between lines.</font>"
   ]
  },
  {
   "cell_type": "code",
   "execution_count": null,
   "metadata": {
    "collapsed": true
   },
   "outputs": [],
   "source": [
    "genders = list(set(df[cols[3]]))"
   ]
  },
  {
   "cell_type": "markdown",
   "metadata": {},
   "source": [
    "# Example Analysis\n",
    "We'll first look at how the college of Letters and Sciences compares to the campus as a whole. We'll restrict this analysis to gender for now."
   ]
  },
  {
   "cell_type": "code",
   "execution_count": null,
   "metadata": {
    "collapsed": false
   },
   "outputs": [],
   "source": [
    "def headcount_percent(df, semester, col, attrs):\n",
    "    \"\"\"\n",
    "    Extract fractional headcount data for specific attributes from a column.\n",
    "    \n",
    "    Parameters\n",
    "    ----------\n",
    "    df : dataframe\n",
    "        Dataframe containing data.\n",
    "    semester : str\n",
    "        String for semester\n",
    "    col : str\n",
    "        Column to check attributes from.\n",
    "    attrs : list of str\n",
    "        List of attributes to select and count.\n",
    "        \n",
    "    Return\n",
    "    ------\n",
    "    Array of percentages for each attribute in attrs.\n",
    "    \"\"\"\n",
    "    indxs = []\n",
    "    # What does this loop do?\n",
    "    for attr in attrs:\n",
    "        indxs.append((df[col] == attr) & (df['Semester Year Letter Cd Concat'] == semester))\n",
    "    counts = [df['Student Headcount'].loc[indx].sum() for indx in indxs]\n",
    "    total = sum(counts)\n",
    "    return 100.*np.array([float(count)/total for count in counts])\n",
    "\n",
    "def distance(data, baseline):\n",
    "    \"\"\"\n",
    "    Compute the euclidean distance between two data arrays.\n",
    "    \n",
    "    Parameters\n",
    "    ----------\n",
    "    data : array\n",
    "        Array of data.\n",
    "    baseline : array\n",
    "        Array of baseline data, should be the same shape as data.\n",
    "        \n",
    "    Return\n",
    "    ------\n",
    "    Euclidean distance between the arrays.\n",
    "    \"\"\"\n",
    "    return np.linalg.norm(data-baseline)\n",
    "\n",
    "campus_vs_LS = {} # dictionary for data\n",
    "for semester in semesters:\n",
    "    data = headcount_percent(df, semester, cols[3], genders)\n",
    "    baseline = headcount_percent(df_baseline, semester, cols[3], genders)\n",
    "    campus_vs_LS[semester] = distance(data, baseline)"
   ]
  },
  {
   "cell_type": "code",
   "execution_count": null,
   "metadata": {
    "collapsed": true
   },
   "outputs": [],
   "source": [
    "campus_vs_LS"
   ]
  },
  {
   "cell_type": "markdown",
   "metadata": {},
   "source": [
    "<font color='green'>\n",
    "Read through the functions ```headcount_frac``` and ```distance```.<br>\n",
    "1) What do they do?<br>\n",
    "2) How are they documented?<br>\n",
    "3) Is this the most reasonable way to calculate distance given our question? What drawbacks does it have?\n",
    "</font>"
   ]
  },
  {
   "cell_type": "markdown",
   "metadata": {},
   "source": [
    "## Plotting the Results"
   ]
  },
  {
   "cell_type": "code",
   "execution_count": null,
   "metadata": {
    "collapsed": false
   },
   "outputs": [],
   "source": [
    "labels = sorted(campus_vs_LS.keys())\n",
    "vals = [campus_vs_LS[key] for key in labels]\n",
    "ticks = range(len(labels))"
   ]
  },
  {
   "cell_type": "code",
   "execution_count": null,
   "metadata": {
    "collapsed": false
   },
   "outputs": [],
   "source": [
    "plt.plot(vals)\n",
    "plt.ylabel('L&S Distance from Campus (percent)')\n",
    "plt.xlabel('Semester')\n",
    "p = plt.xticks(ticks, labels, rotation='vertical')"
   ]
  },
  {
   "cell_type": "markdown",
   "metadata": {},
   "source": [
    "<font color='green'>\n",
    "1) What does this plot show?<br>\n",
    "2) How could this plot be improved?<br>\n",
    "</font>"
   ]
  },
  {
   "cell_type": "markdown",
   "metadata": {
    "collapsed": true
   },
   "source": [
    "# Your Analysis\n",
    "In your group, choose a question you'd like to investigate. The data comes from a number of academic units and is broken down by semester, gender, and ethnicity. You may have to restrict the scope of your question given the limitations of the dataset (you'll have access to more data for final projects!)\n",
    "\n",
    "The rest of the notebook is broken down into the probable steps you'll need to take. Feel free to copy code from above and look things up online.\n",
    "## Finding files\n",
    "Google 'python listdir' and use it to get a list of all of the csv files in the data folder."
   ]
  },
  {
   "cell_type": "code",
   "execution_count": null,
   "metadata": {
    "collapsed": true
   },
   "outputs": [],
   "source": []
  },
  {
   "cell_type": "markdown",
   "metadata": {},
   "source": [
    "## Select Data\n",
    "Depending on your question, you may need to make a modified version of the ```headcount_frac``` function to select the data you want. Or you might just need to pass it different values. You may also wish to use a different distance function."
   ]
  },
  {
   "cell_type": "code",
   "execution_count": null,
   "metadata": {
    "collapsed": true
   },
   "outputs": [],
   "source": []
  },
  {
   "cell_type": "markdown",
   "metadata": {},
   "source": [
    "## Plot the Results\n",
    "Make a plot (or series of plots) that convey your result as clearly as possible. Google 'matplotlib something' for ideas on how to make certain plot types. If you are plotting different datasets on one plot, you may want to use a legend!"
   ]
  },
  {
   "cell_type": "code",
   "execution_count": null,
   "metadata": {
    "collapsed": true
   },
   "outputs": [],
   "source": []
  }
 ],
 "metadata": {
  "kernelspec": {
   "display_name": "Python 2",
   "language": "python",
   "name": "python2"
  },
  "language_info": {
   "codemirror_mode": {
    "name": "ipython",
    "version": 2
   },
   "file_extension": ".py",
   "mimetype": "text/x-python",
   "name": "python",
   "nbconvert_exporter": "python",
   "pygments_lexer": "ipython2",
   "version": "2.7.10"
  }
 },
 "nbformat": 4,
 "nbformat_minor": 0
}
