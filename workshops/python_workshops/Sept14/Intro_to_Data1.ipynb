{
 "cells": [
  {
   "cell_type": "markdown",
   "metadata": {},
   "source": [
    "# Introduction to Python\n",
    "\n",
    "This introduction to Python will focus on the first of two main topics: basic Python syntax.\n",
    "The second will cover tools for data manipulation, analysis, and plotting.\n",
    "\n",
    "The Python syntax we will cover is:\n",
    "- loading libraries and modules,\n",
    "- manipulating variables,\n",
    "- printing information,\n",
    "- opening and reading files,\n",
    "- functions,\n",
    "- for loops, and\n",
    "- control statements (if statements).\n",
    "\n",
    "IPython notebooks are organized by \"cells.\" Each cell can have its own code and can be run independently and in any order (although they are usually run top to bottom in a notebook.) To run a cell and move to the next cell press ```Shift+Enter```. To run a cell and stay on that cell press ```Control+Enter```.\n",
    "\n",
    "Questions to be discussed in groups are highlighted in <font color='green'>green</font>. If you don't understand a function that is used, try googling something like \"python function-name\"."
   ]
  },
  {
   "cell_type": "markdown",
   "metadata": {},
   "source": [
    "## IPython Notebook\n",
    "We'll be using this notebook format for the tutorial. The notebook is organized in a series of 'cells'. You can run each cell individually by selecting it with your mouse or arrow keys and hitting Shift+Enter.\n",
    "\n",
    "This notebook will lead you through some basic python syntax and then you'll load some data at the end."
   ]
  },
  {
   "cell_type": "markdown",
   "metadata": {},
   "source": [
    "## Loading CSVs\n",
    "\n",
    "Many times, data will come to us in a format called \"CSV\" or \"comma separated values.\" Generally, these files will contain a \"header\" row that contains the column names and then a number of rows containing the data entries.\n",
    "\n",
    "### Loading Libraries\n",
    "We won't need many tools for this. We'll just use the 'csv' library that comes with Python. You can read about the functionality in the library and see some example code here:\n",
    "https://docs.python.org/2/library/csv.html."
   ]
  },
  {
   "cell_type": "code",
   "execution_count": null,
   "metadata": {
    "collapsed": true
   },
   "outputs": [],
   "source": [
    "# Import the csv library. Also, this is how you make a comment!\n",
    "# Run me with `Shift+Enter`.\n",
    "import csv"
   ]
  },
  {
   "cell_type": "markdown",
   "metadata": {},
   "source": [
    "You can find out about a library by adding a question mark at the end and running the cell (Shift+Enter). You can close the window that pops up."
   ]
  },
  {
   "cell_type": "code",
   "execution_count": null,
   "metadata": {
    "collapsed": true
   },
   "outputs": [],
   "source": [
    "csv?"
   ]
  },
  {
   "cell_type": "markdown",
   "metadata": {},
   "source": [
    "### Variable Types and Assignment\n",
    "Almost everything you will do when programming is some kind of 'data manipulation.' To manipulate data, we need to assign it to some variable.\n",
    "\n",
    "For instance, we might need the name of a csv file so we can later open and read it."
   ]
  },
  {
   "cell_type": "code",
   "execution_count": null,
   "metadata": {
    "collapsed": false
   },
   "outputs": [],
   "source": [
    "file_name = 'student_data.csv'\n",
    "print(file_name)\n",
    "print(type(file_name))"
   ]
  },
  {
   "cell_type": "markdown",
   "metadata": {},
   "source": [
    "Here we can see that the variable called 'file_name' has been set to the string 'student_data.csv'. The pattern for assignment is the variable name on the left is given the value of the thing on the right.\n",
    "\n",
    "In addition to string (collection of letters) data, we can also have numerical data."
   ]
  },
  {
   "cell_type": "code",
   "execution_count": null,
   "metadata": {
    "collapsed": false
   },
   "outputs": [],
   "source": [
    "n_students = 10\n",
    "print(n_students)\n",
    "print(type(n_students))"
   ]
  },
  {
   "cell_type": "code",
   "execution_count": null,
   "metadata": {
    "collapsed": false
   },
   "outputs": [],
   "source": [
    "passing_grade = .6\n",
    "print(passing_grade)\n",
    "print(type(passing_grade))"
   ]
  },
  {
   "cell_type": "markdown",
   "metadata": {},
   "source": [
    "The 'int' type stands for integers and 'float' for real numbers (with decimals). One important different between ints and floats is how division works. Try dividing different combinations of ints and floats.\n",
    "<font color='green'>\n",
    "1. What is the result of a float divided by a float?<br>\n",
    "2. An int by an int?<br>\n",
    "2. An int by an float?\n",
    "</font>"
   ]
  },
  {
   "cell_type": "code",
   "execution_count": null,
   "metadata": {
    "collapsed": true
   },
   "outputs": [],
   "source": [
    "# Do division here:\n"
   ]
  },
  {
   "cell_type": "markdown",
   "metadata": {},
   "source": [
    "## Collections of Things\n",
    "We often want to have collections of things. There are three common collections: lists, tuples, dictionaries.\n",
    "### Lists\n",
    "Python lists are similar to the common notion of a list. They are a ordered set of things that you can add to or take away from. The items in a list are often similar to each other."
   ]
  },
  {
   "cell_type": "code",
   "execution_count": null,
   "metadata": {
    "collapsed": false
   },
   "outputs": [],
   "source": [
    "vegetables = ['tomatoes', 'broccoli', 'carrots']\n",
    "print(vegetables)"
   ]
  },
  {
   "cell_type": "code",
   "execution_count": null,
   "metadata": {
    "collapsed": false
   },
   "outputs": [],
   "source": [
    "vegetables = vegetables + ['cabbage']\n",
    "print(vegetables)\n",
    "# What happens if you run this more than once?"
   ]
  },
  {
   "cell_type": "code",
   "execution_count": null,
   "metadata": {
    "collapsed": false
   },
   "outputs": [],
   "source": [
    "# Shortcut syntax!\n",
    "vegetables += ['kale']\n",
    "print(vegetables)"
   ]
  },
  {
   "cell_type": "markdown",
   "metadata": {},
   "source": [
    "### Tuples\n",
    "Python tuples are similar to lists, but they are generally used when you have a fixed/known number of elements. Mathematical coordinates are a good example (x, y, z). They are also often used when the items are more heterogeneous (name, age, hobbies)."
   ]
  },
  {
   "cell_type": "code",
   "execution_count": null,
   "metadata": {
    "collapsed": false
   },
   "outputs": [],
   "source": [
    "location = (.5, 4., 3.)\n",
    "print(location)"
   ]
  },
  {
   "cell_type": "code",
   "execution_count": null,
   "metadata": {
    "collapsed": false
   },
   "outputs": [],
   "source": [
    "person = ('Pat', 19, ['swimming', 'painting'])\n",
    "print(person)"
   ]
  },
  {
   "cell_type": "markdown",
   "metadata": {},
   "source": [
    "An important technical different between lists and tuples is that the elements of a list can change, but the elements of a tuple cannot change."
   ]
  },
  {
   "cell_type": "code",
   "execution_count": null,
   "metadata": {
    "collapsed": false
   },
   "outputs": [],
   "source": [
    "print(vegetables)\n",
    "vegetables[0] = 'chicken'\n",
    "print(vegetables)"
   ]
  },
  {
   "cell_type": "code",
   "execution_count": null,
   "metadata": {
    "collapsed": false
   },
   "outputs": [],
   "source": [
    "print(person)\n",
    "person[0] = 'chicken'"
   ]
  },
  {
   "cell_type": "markdown",
   "metadata": {},
   "source": [
    "### Dictionaries\n",
    "Dictionaries, like a language dictionary, are compromised of a number of pairs of things (like words and definitions). They are called keys (words) and values (definitions). They are useful when you want to store and recall things by name."
   ]
  },
  {
   "cell_type": "code",
   "execution_count": null,
   "metadata": {
    "collapsed": false
   },
   "outputs": [],
   "source": [
    "students = {1: 'Paul',\n",
    "            2: 'Shelly',\n",
    "            3: 'Pat'}\n",
    "print(students.keys())\n",
    "print(students.values())\n",
    "print(students[1])"
   ]
  },
  {
   "cell_type": "code",
   "execution_count": null,
   "metadata": {
    "collapsed": false
   },
   "outputs": [],
   "source": [
    "# Can add more later\n",
    "students[4] = 'Victoria'\n",
    "print(students)"
   ]
  },
  {
   "cell_type": "markdown",
   "metadata": {},
   "source": [
    "<font color='green'>\n",
    "Create a few lists, tuples and dictionaries of your own. Try manipulating them a bit.\n",
    "</font>"
   ]
  },
  {
   "cell_type": "code",
   "execution_count": null,
   "metadata": {
    "collapsed": true
   },
   "outputs": [],
   "source": [
    "# Try here:\n"
   ]
  },
  {
   "cell_type": "markdown",
   "metadata": {},
   "source": [
    "## Loading Data from Files"
   ]
  },
  {
   "cell_type": "markdown",
   "metadata": {},
   "source": [
    "Before we load it into Python, have a look at the \"student_data.csv\" file in a text editor. It's filled with fake student grade data.\n",
    "\n",
    "<font color='green'>\n",
    "1. How is the data formatted?<br>\n",
    "2. How should the data be \"read in\"?\n",
    "</font>\n",
    "\n",
    "After you've answered these questions, run the following cell and look at what is printed. You can also run the following cell to see what the variable \"rows\" is.\n",
    "\n",
    "You can click on the white space to the left of the output to minimize or maximize it."
   ]
  },
  {
   "cell_type": "code",
   "execution_count": null,
   "metadata": {
    "collapsed": false,
    "scrolled": true
   },
   "outputs": [],
   "source": [
    "with open('student_data.csv', 'r') as csvfile:\n",
    "    reader = csv.reader(csvfile, delimiter=',')\n",
    "    rows = []\n",
    "    for row in reader:\n",
    "        print row\n",
    "        rows.append(row)"
   ]
  },
  {
   "cell_type": "code",
   "execution_count": null,
   "metadata": {
    "collapsed": false
   },
   "outputs": [],
   "source": [
    "rows"
   ]
  },
  {
   "cell_type": "markdown",
   "metadata": {},
   "source": [
    "## For Loops\n",
    "\n",
    "A common manipulation in programming is to loop through a bunch of data or lists and do something specific with each item. Here, we have a bunch of students' grade information. Let's say we want to calculate each student's final grade based on the weighting:\n",
    "- MT1: 25%\n",
    "- MT2: 25%\n",
    "- HW: 20%\n",
    "- Final: 30%\n",
    "\n",
    "and print out their final score. Since we want to calculate the weighting a bunch of times, we'll write a function to do that for us."
   ]
  },
  {
   "cell_type": "code",
   "execution_count": null,
   "metadata": {
    "collapsed": false,
    "scrolled": true
   },
   "outputs": [],
   "source": [
    "# Function to take grade data and calculate final score\n",
    "def final_grade(grade_data):\n",
    "    # The csv reader will load the data as a string and so we need to turn it into numbers\n",
    "    # Look up \"list comprehension\" in python to understand the next line\n",
    "    float_data = [float(data) for data in grade_data]\n",
    "    return .25*float_data[0]+.25*float_data[1]+.2*float_data[2]+.3*float_data[3]\n",
    "    \n",
    "# Look up \"slices\" in python to understand what [1:] syntax is doing.\n",
    "for student in rows[1:]:\n",
    "    print('Student: '+student[0]+', Grade: '+str(final_grade(student[1:])))"
   ]
  },
  {
   "cell_type": "markdown",
   "metadata": {},
   "source": [
    "<font color='green'>\n",
    "1. In addition to the final grade, can you add in the correctly weighted grade going into the final? Feel free to copy the 'final_grade' function and make a new version.<br>\n",
    "2. What if you only want to list 'n_students' (defined above) grade information starting at 'begin_student'? Try looking up the 'enumerate' function or 'range' function in python to get some ideas.\n",
    "</font>"
   ]
  },
  {
   "cell_type": "code",
   "execution_count": null,
   "metadata": {
    "collapsed": true
   },
   "outputs": [],
   "source": [
    "begin_student = 5\n",
    "# Use this space to try answering the above questions:\n"
   ]
  },
  {
   "cell_type": "markdown",
   "metadata": {},
   "source": [
    "## If Statements\n",
    "\n",
    "Another commom manipulation is to have different branches in code that behave differently depending on the data. This is commonly done with an \"if statement.\" An examples of this would be to print \"S\" if the student gets a 60% or above and \"U\" if they do not. "
   ]
  },
  {
   "cell_type": "code",
   "execution_count": null,
   "metadata": {
    "collapsed": false,
    "scrolled": true
   },
   "outputs": [],
   "source": [
    "for student in rows[1:]:\n",
    "    grade = final_grade(student[1:])\n",
    "    if grade >= passing_grade:\n",
    "        letter = 'S'\n",
    "    else:\n",
    "        letter = 'U'\n",
    "    print('Student: '+student[0]+', Grade: '+str(grade)+', '+letter)"
   ]
  },
  {
   "cell_type": "markdown",
   "metadata": {},
   "source": [
    "<font color='green'>\n",
    "1. Add in another category (S+) for students who get above 80%.<br>\n",
    "2. Make a variable that keeps track of how many students are in each category and print the result at the end.\n",
    "</font>"
   ]
  },
  {
   "cell_type": "code",
   "execution_count": null,
   "metadata": {
    "collapsed": true
   },
   "outputs": [],
   "source": []
  }
 ],
 "metadata": {
  "kernelspec": {
   "display_name": "Python 2",
   "language": "python",
   "name": "python2"
  },
  "language_info": {
   "codemirror_mode": {
    "name": "ipython",
    "version": 2
   },
   "file_extension": ".py",
   "mimetype": "text/x-python",
   "name": "python",
   "nbconvert_exporter": "python",
   "pygments_lexer": "ipython2",
   "version": "2.7.10"
  }
 },
 "nbformat": 4,
 "nbformat_minor": 0
}
