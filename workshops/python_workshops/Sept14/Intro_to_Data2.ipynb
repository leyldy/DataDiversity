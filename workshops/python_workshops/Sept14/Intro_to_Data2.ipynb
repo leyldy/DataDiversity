{
 "cells": [
  {
   "cell_type": "markdown",
   "metadata": {},
   "source": [
    "# Introduction to Python\n",
    "\n",
    "This introduction to Python will focus on the second of two main topics: tools for data manipulation, analysis, and plotting.\n",
    "\n",
    "We will cover:\n",
    "- Pandas library and dataframes,\n",
    "- computing statistics from data,\n",
    "- finding relationships in data,\n",
    "- plotting data to show relationships.\n",
    "\n",
    "As a reminder:\n",
    "IPython notebooks are organized by \"cells.\" Each cell can have its own code and can be run independently and in any order (although they are usually run top to bottom in a notebook.) To run a cell and move to the next cell press ```Shift+Enter```. To run a cell and stay on that cell press ```Control+Enter```.\n",
    "\n",
    "Questions to be discussed in groups are highlighted in <font color='green'>green</font>. If you don't understand a function that is used, try googling something like \"python function-name\"."
   ]
  },
  {
   "cell_type": "code",
   "execution_count": null,
   "metadata": {
    "collapsed": true
   },
   "outputs": [],
   "source": [
    "import pandas as pd # Library for storing, manipulating, and visualizing data\n",
    "import matplotlib.pyplot as plt # Library for plotting\n",
    "%matplotlib inline"
   ]
  },
  {
   "cell_type": "code",
   "execution_count": null,
   "metadata": {
    "collapsed": true
   },
   "outputs": [],
   "source": [
    "# We'll use the same data as before\n",
    "file_name = 'student_data.csv'"
   ]
  },
  {
   "cell_type": "markdown",
   "metadata": {},
   "source": [
    "# Dataframes\n",
    "Rather than dealing with loading the csv data ourselves, we can use the Pandas library to directly read the csv and store is in a data structure called a \"Dataframe.\" Dataframes are objects that can be used to store and manipulate 'columnar' data.\n",
    "\n",
    "One nice features of dataframes is that they are a structure that can store both the raw data and also meta-data, e.g. student ID/name or assignment type."
   ]
  },
  {
   "cell_type": "code",
   "execution_count": null,
   "metadata": {
    "collapsed": false,
    "scrolled": true
   },
   "outputs": [],
   "source": [
    "# Read csv into dataframe\n",
    "df = pd.read_csv(file_name)\n",
    "df"
   ]
  },
  {
   "cell_type": "code",
   "execution_count": null,
   "metadata": {
    "collapsed": false
   },
   "outputs": [],
   "source": [
    "# Make student ID the 'index'\n",
    "df = df.set_index('ID')\n",
    "df"
   ]
  },
  {
   "cell_type": "markdown",
   "metadata": {},
   "source": [
    "## Selecting Data from Dataframes\n",
    "There are a number of ways of extracting subsets of the data from a dataframe.\n",
    "- columns\n",
    "- iloc: index based, similar to NumPy,\n",
    "- loc: label based, more similar to a dictionary,\n",
    "- ix: index and labels (but labels cannot be integers)\n",
    "### Columns"
   ]
  },
  {
   "cell_type": "code",
   "execution_count": null,
   "metadata": {
    "collapsed": false,
    "scrolled": true
   },
   "outputs": [],
   "source": [
    "# You can extract a column directly from the dataframe.\n",
    "# Remember that you can collapse the output by clicking in the space to the left.\n",
    "df[['HW']]\n",
    "# What happens if you change the double brackets to single brackets?"
   ]
  },
  {
   "cell_type": "code",
   "execution_count": null,
   "metadata": {
    "collapsed": false,
    "scrolled": true
   },
   "outputs": [],
   "source": [
    "# You can also extract multiple columns\n",
    "df[['ID', 'MT1', 'MT2']]"
   ]
  },
  {
   "cell_type": "markdown",
   "metadata": {},
   "source": [
    "### Rows"
   ]
  },
  {
   "cell_type": "code",
   "execution_count": null,
   "metadata": {
    "collapsed": false
   },
   "outputs": [],
   "source": [
    "# iloc selects indices\n",
    "df.iloc[2:5]"
   ]
  },
  {
   "cell_type": "code",
   "execution_count": null,
   "metadata": {
    "collapsed": false
   },
   "outputs": [],
   "source": [
    "# loc selects labels\n",
    "df.loc[[2,3,4]]"
   ]
  },
  {
   "cell_type": "markdown",
   "metadata": {},
   "source": [
    "You can also select columns and rows at the same time.\n",
    "<font color='green'>\n",
    "1. Can you select the Final grade data for students 20-30?<br>\n",
    "2. How about the MT1 and MT2 data?</font>"
   ]
  },
  {
   "cell_type": "code",
   "execution_count": null,
   "metadata": {
    "collapsed": false
   },
   "outputs": [],
   "source": [
    "# Try here:\n"
   ]
  },
  {
   "cell_type": "markdown",
   "metadata": {},
   "source": [
    "## Creating New Columns\n",
    "In the last notebook, you created a 'final grade' for the students based on the weighting:\n",
    "- MT1: 25%\n",
    "- MT2: 25%\n",
    "- HW: 20%\n",
    "- Final: 30%\n",
    "\n",
    "<font color='green'>\n",
    "<br>1. Create a new column in the dataframe that computes the final grade.<br>\n",
    "Hint: the syntax for creating a new column looks very similar to adding a new item to a dictionary!<br>\n",
    "2. Create a new column that has a 'S' or 'U' based on the .6 cuttoff. Hint: you'll want to use loc for this. First try finding what students have a Final Grade > .6!</font>\n",
    "\n",
    "If you have trouble with either of these things, search the Pandas documentation. An example for calculating the Midterm Mean is given."
   ]
  },
  {
   "cell_type": "code",
   "execution_count": null,
   "metadata": {
    "collapsed": true
   },
   "outputs": [],
   "source": [
    "df['Midterm Mean'] = .5*df['MT1']+.5*df['MT2']"
   ]
  },
  {
   "cell_type": "code",
   "execution_count": null,
   "metadata": {
    "collapsed": true
   },
   "outputs": [],
   "source": [
    "# Create new columns here:\n"
   ]
  },
  {
   "cell_type": "markdown",
   "metadata": {},
   "source": [
    "# Dataframe Utilities\n",
    "## Computing Statistics\n",
    "You can also compute statistics on the dataframe as a whole or subsets of the data."
   ]
  },
  {
   "cell_type": "code",
   "execution_count": null,
   "metadata": {
    "collapsed": false,
    "scrolled": true
   },
   "outputs": [],
   "source": [
    "print('Mean')\n",
    "print(df.mean())\n",
    "print('')\n",
    "print('Max')\n",
    "print(df.max())\n",
    "print('')\n",
    "\n",
    "\n",
    "print('Final')\n",
    "print(df['Final'].mean())\n",
    "print('')\n",
    "\n",
    "print('Homework for Selected Students')\n",
    "print(df.loc[120:130, 'HW'].mean())"
   ]
  },
  {
   "cell_type": "markdown",
   "metadata": {},
   "source": [
    "## Plotting\n",
    "There are also a number of plots from matplotlib that you can create directly from the dataframe.\n",
    "### Histograms\n",
    "Try making histograms for different columns. You can also compute the columns mean and standard deviation (.std()) and see if it makes sense given the histogram."
   ]
  },
  {
   "cell_type": "code",
   "execution_count": null,
   "metadata": {
    "collapsed": false
   },
   "outputs": [],
   "source": [
    "col = 'Final'\n",
    "df.plot(y=col, kind='hist')\n",
    "print(df[col].mean(), df[col].std())"
   ]
  },
  {
   "cell_type": "markdown",
   "metadata": {},
   "source": [
    "## Finding Correlations in Data\n",
    "We might hope that the grade on the final exam is a good overall measure of students' knowledge.\n",
    "\n",
    "One question you could ask is: \"what other grades in the course are correlated with the grade on the final?\" We can make scatter plots of the different columns versus the final exam to get a qualitative sense (we'll do a quantitative answer later in the course)."
   ]
  },
  {
   "cell_type": "code",
   "execution_count": null,
   "metadata": {
    "collapsed": false
   },
   "outputs": [],
   "source": [
    "print(df.columns)"
   ]
  },
  {
   "cell_type": "code",
   "execution_count": null,
   "metadata": {
    "collapsed": false
   },
   "outputs": [],
   "source": [
    "col_comparison = 'HW'\n",
    "df.plot(x='Final', y=col_comparison, kind='scatter')"
   ]
  },
  {
   "cell_type": "markdown",
   "metadata": {},
   "source": [
    "<font color='green'>\n",
    "1. Which other assessments seem to correlate with the final exam grades?<br>\n",
    "2. Which do not?</font>\n",
    "\n",
    "Note that this is generated data and not data from a read course."
   ]
  },
  {
   "cell_type": "code",
   "execution_count": null,
   "metadata": {
    "collapsed": true
   },
   "outputs": [],
   "source": []
  }
 ],
 "metadata": {
  "kernelspec": {
   "display_name": "Python 2",
   "language": "python",
   "name": "python2"
  },
  "language_info": {
   "codemirror_mode": {
    "name": "ipython",
    "version": 2
   },
   "file_extension": ".py",
   "mimetype": "text/x-python",
   "name": "python",
   "nbconvert_exporter": "python",
   "pygments_lexer": "ipython2",
   "version": "2.7.10"
  }
 },
 "nbformat": 4,
 "nbformat_minor": 0
}
